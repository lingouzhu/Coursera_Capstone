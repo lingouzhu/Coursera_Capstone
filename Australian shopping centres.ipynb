{
 "cells": [
  {
   "cell_type": "markdown",
   "metadata": {},
   "source": [
    "# Introduction\n",
    "In Australia, online shopping is developing fast, the offline shopping is being challenged. It is interesting to know what types of offline shops are popular and welcomed by people. Furthermore, it is also interesting to dig out if there is a different pattern across Australia. \n",
    "This will help business stakeholders adapt offline shops together with online shops."
   ]
  },
  {
   "cell_type": "markdown",
   "metadata": {},
   "source": [
    "# Business Problem\n",
    "To understand the the top picked offline shops pattern in Australia, and understand its distribution across different cites of Australia.\n",
    "# Audience \n",
    "* Shopping mall developer, to design/adapt shopping malls, suitable to those popular types of shops\n",
    "* Shopping mall developer, to understand what types shops are more suitable in different Australian cities\n",
    "* Shop owners, to open shops attracting more people/values, especially if certain neighbor does not have such type of shops. \n",
    "* (Note, this study will not predicate which types shops are missed/demanded in certain location due to limited scope of this study. But of course, this could be one of good extension from the study.)"
   ]
  },
  {
   "cell_type": "markdown",
   "metadata": {},
   "source": [
    "# Data\n",
    "This wikipedia link provides a list of shopping centers in Australia. https://en.wikipedia.org/wiki/List_of_shopping_centres_in_Australia\n",
    "For each shopping center, normally a detailed wikipedia link provided. The detailed page provides coordinates, which can be supplied to Foursquare API.\n",
    "I have noticed that not all shopping centers have the detailed page. So the study will ignore those shopping centers if the detailed pages not existed. \n",
    "Then I plan to use Foursquare API Explore Venues Recommendation, by using extracted latitude and longitude of shopping centers. The API will fetch the top picked shops & category in the shopping center areas. \n",
    "# Example\n",
    "Chadstone Shopping Centre in Victoria, the detailed page (https://en.wikipedia.org/wiki/Chadstone_Shopping_Centre) provides coordinate 37°53′9″S 145°4′57″E. That converts to:\n",
    "neighborhood_latitude=-38.02\n",
    "neighborhood_longitude=145.30\n",
    "Then the url will help to fetch the top picked shops 'https://api.foursquare.com/v2/venues/explore?client_id={}&client_secret={}&ll={},{}&v={}&radius={}&limit={}'.format(CLIENT_ID, CLIENT_SECRET, neighborhood_latitude, neighborhood_longitude, VERSION, radius, LIMIT)"
   ]
  },
  {
   "cell_type": "code",
   "execution_count": null,
   "metadata": {},
   "outputs": [],
   "source": []
  }
 ],
 "metadata": {
  "kernelspec": {
   "display_name": "Python 3",
   "language": "python",
   "name": "python3"
  },
  "language_info": {
   "codemirror_mode": {
    "name": "ipython",
    "version": 3
   },
   "file_extension": ".py",
   "mimetype": "text/x-python",
   "name": "python",
   "nbconvert_exporter": "python",
   "pygments_lexer": "ipython3",
   "version": "3.6.5"
  }
 },
 "nbformat": 4,
 "nbformat_minor": 2
}
